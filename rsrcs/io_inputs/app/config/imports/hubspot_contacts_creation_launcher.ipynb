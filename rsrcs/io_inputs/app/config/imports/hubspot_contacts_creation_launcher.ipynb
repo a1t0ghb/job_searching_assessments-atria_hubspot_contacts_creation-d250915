{
 "cells": [
  {
   "cell_type": "markdown",
   "id": "56cf537e",
   "metadata": {},
   "source": [
    "# Versions.\n"
   ]
  },
  {
   "cell_type": "markdown",
   "id": "4e5ae01c",
   "metadata": {},
   "source": [
    "## v250924: initial.\n"
   ]
  },
  {
   "cell_type": "code",
   "execution_count": 1,
   "id": "22e4e8cc",
   "metadata": {},
   "outputs": [],
   "source": [
    "# ----- ----- ----- ----- ----- ----- ----- ----- ----- -----\n",
    "# [1ST TIME CODE EXECUTION] MANUAL VERIFICATIONS.\n"
   ]
  },
  {
   "cell_type": "code",
   "execution_count": 2,
   "id": "7928573f",
   "metadata": {},
   "outputs": [],
   "source": [
    "# #  Distro. update.\n",
    "\n",
    "# !sudo apt update && sudo apt -y upgrade && sudo apt autoremove\n"
   ]
  },
  {
   "cell_type": "code",
   "execution_count": 3,
   "id": "c2222d2c",
   "metadata": {},
   "outputs": [
    {
     "name": "stdout",
     "output_type": "stream",
     "text": [
      "Python 3.12.11\n",
      "pip 25.2 from /home/vscode/.local/lib/python3.12/site-packages/pip (python 3.12)\n",
      "Note: you may need to restart the kernel to use updated packages.\n"
     ]
    }
   ],
   "source": [
    "#  Distro. 'python' and 'pip' versions.\n",
    "\n",
    "!python --version\n",
    "%pip --version          #  '!pip' vs '%pip': 'https://medium.com/@aroffe9/installing-python-packages-in-jupyter-notebooks-ca7dc7dd7535'.\n"
   ]
  },
  {
   "cell_type": "code",
   "execution_count": 4,
   "id": "d0cd4afe",
   "metadata": {},
   "outputs": [],
   "source": [
    "# #  List of installed packages.\n",
    "\n",
    "# %pip list\n"
   ]
  },
  {
   "cell_type": "code",
   "execution_count": 6,
   "id": "0de2f93b",
   "metadata": {},
   "outputs": [
    {
     "name": "stdout",
     "output_type": "stream",
     "text": [
      "Version: 13.7.1\n",
      "Note: you may need to restart the kernel to use updated packages.\n"
     ]
    }
   ],
   "source": [
    "#  Validate MANUALLY, ONE AT A TIME, if packages are installed.\n",
    "\n",
    "# %pip show os | grep Verssion            #  Built-in module, no need to install; only import.\n",
    "%pip show rich | grep Version\n",
    "# %pip show pyscript | grep Version         #  IMPORTANT: 'PyScript' is not installed when developing; it must be called from a properly configured HTML file. Stick to documentation for referencing methods: 'https://docs.pyscript.net/2025.8.1/api/'."
   ]
  },
  {
   "cell_type": "code",
   "execution_count": 8,
   "id": "0d2d06ac",
   "metadata": {},
   "outputs": [],
   "source": [
    "# #  [1ST TIME CODE EXECUTION] PACKAGES INSTALLATION: required for every NEW runtime.\n",
    "\n",
    "# #  To upgrade a package, add '-U' parameter before package name. e.g. '!pip install -U sys'.\n",
    "# %pip install --upgrade pip setuptools           #  Keep pip, and complement updated: 'https://simpleaudio.readthedocs.io/en/latest/installation.html#installation', 'https://stackoverflow.com/questions/41216875/what-is-the-purpose-of-python-setuptools/41217568#41217568'.\n",
    "\n",
    "# # %pip install os\n",
    "# # %pip install rich                               #  Uses:  'https://www.freecodecamp.org/news/use-the-rich-library-in-python/'.\n",
    "# %pip install rich[jupyter]                      #  If intended to use rich with Jupyter: 'https://rich.readthedocs.io/en/stable/introduction.html#installation'.\n",
    "# # %pip install pyscript\n"
   ]
  },
  {
   "cell_type": "code",
   "execution_count": 10,
   "id": "45a44c47",
   "metadata": {},
   "outputs": [],
   "source": [
    "#  LIBRARIES / PACKAGES IMPORTS.\n",
    "\n",
    "import os                                   #  To work with directories.\n",
    "from rich import print as rprint            #  Rich text and beautiful formatting.\n",
    "# from pyscript import document               #  To manage CSS selectors, via DOM."
   ]
  }
 ],
 "metadata": {
  "kernelspec": {
   "display_name": "Python 3",
   "language": "python",
   "name": "python3"
  },
  "language_info": {
   "codemirror_mode": {
    "name": "ipython",
    "version": 3
   },
   "file_extension": ".py",
   "mimetype": "text/x-python",
   "name": "python",
   "nbconvert_exporter": "python",
   "pygments_lexer": "ipython3",
   "version": "3.12.11"
  }
 },
 "nbformat": 4,
 "nbformat_minor": 5
}
