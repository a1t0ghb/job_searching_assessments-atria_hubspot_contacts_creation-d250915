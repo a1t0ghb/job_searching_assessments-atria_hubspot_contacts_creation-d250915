{
 "cells": [
  {
   "cell_type": "markdown",
   "id": "1e8c6a2d",
   "metadata": {},
   "source": [
    "# Versions."
   ]
  },
  {
   "cell_type": "markdown",
   "id": "868ba8cf",
   "metadata": {},
   "source": [
    "## Original version d250915."
   ]
  },
  {
   "cell_type": "code",
   "execution_count": 3,
   "id": "2cc6fdb6",
   "metadata": {},
   "outputs": [],
   "source": [
    "# ----- ----- ----- ----- ----- ----- ----- ----- ----- -----\n",
    "# [1ST TIME CODE EXECUTION] MANUAL VERIFICATIONS.\n"
   ]
  },
  {
   "cell_type": "code",
   "execution_count": 5,
   "id": "d6d3ab43",
   "metadata": {},
   "outputs": [],
   "source": [
    "# #  Distro. update.\n",
    "\n",
    "# !sudo apt update && sudo apt -y upgrade && sudo apt autoremove"
   ]
  },
  {
   "cell_type": "code",
   "execution_count": 6,
   "id": "f85e9acb",
   "metadata": {},
   "outputs": [
    {
     "name": "stdout",
     "output_type": "stream",
     "text": [
      "Python 3.12.11\n",
      "pip 25.0.1 from /usr/local/lib/python3.12/site-packages/pip (python 3.12)\n",
      "Note: you may need to restart the kernel to use updated packages.\n"
     ]
    }
   ],
   "source": [
    "#  Distro. 'python' and 'pip' versions.\n",
    "\n",
    "!python --version\n",
    "%pip --version          #  '!pip' vs '%pip': 'https://medium.com/@aroffe9/installing-python-packages-in-jupyter-notebooks-ca7dc7dd7535'.\n"
   ]
  },
  {
   "cell_type": "code",
   "execution_count": 7,
   "id": "ee9c0d87",
   "metadata": {},
   "outputs": [],
   "source": [
    "# #  List of installed packages.\n",
    "\n",
    "# %pip list\n"
   ]
  },
  {
   "cell_type": "code",
   "execution_count": 18,
   "id": "dc0329ed",
   "metadata": {},
   "outputs": [
    {
     "name": "stdout",
     "output_type": "stream",
     "text": [
      "Version: 14.1.0\n",
      "Note: you may need to restart the kernel to use updated packages.\n"
     ]
    }
   ],
   "source": [
    "#  Validate MANUALLY, ONE AT A TIME, if packages are installed.\n",
    "\n",
    "# %pip show os | grep Verssion            #  Built-in module, no need to install; only import.\n",
    "%pip show rich | grep Version\n",
    "# %pip show warnings | grep Version       #  Built-in module, no need to install; only import.\n",
    "\n",
    "# # %pip show json | grep Version           #  Built-in module, no need to install; only import.\n",
    "# %pip show numpy | grep Version\n",
    "# %pip show geopandas | grep Version\n",
    "# %pip show plotly.express | grep Version\n",
    "# %pip show cartopy | grep Version\n",
    "# %pip show tropycal | grep Version\n",
    "# %pip show shapely.geometry | grep Version   # TODO.\n",
    "\n",
    "# # %pip show glob | grep Version           #  Built-in module, no need to install; only import.\n",
    "# # %pip show re | grep Version             #  Built-in module, no need to install; only import.\n",
    "# %pip show PyYAML | grep Version\n",
    "# # %pip show datetime | grep Version       #  Built-in module, no need to install; only import.\n",
    "# # %pip show zoneinfo | grep Version       #  Built-in module, no need to install; only import.\n",
    "# %pip show pandas | grep Version\n",
    "# # %pip show copy | grep Version           #  Built-in module, no need to install; only import.\n",
    "# # %pip show sys | grep Version            #  Built-in module, no need to install; only import.\n",
    "# # %pip show time | grep Version           #  Built-in module, no need to install; only import."
   ]
  },
  {
   "cell_type": "code",
   "execution_count": 19,
   "id": "ed371c77",
   "metadata": {},
   "outputs": [],
   "source": [
    "# #  [1ST TIME CODE EXECUTION] PACKAGES INSTALLATION: required for every NEW runtime.\n",
    "\n",
    "# #  To upgrade a package, add '-U' parameter before package name. e.g. '!pip install -U sys'.\n",
    "# %pip install --upgrade pip setuptools           #  Keep pip, and complement updated: 'https://simpleaudio.readthedocs.io/en/latest/installation.html#installation', 'https://stackoverflow.com/questions/41216875/what-is-the-purpose-of-python-setuptools/41217568#41217568'.\n",
    "\n",
    "# # %pip install os\n",
    "# # %pip install rich                               #  Uses:  'https://www.freecodecamp.org/news/use-the-rich-library-in-python/'.\n",
    "# %pip install rich[jupyter]                      #  If intended to use rich with Jupyter: 'https://rich.readthedocs.io/en/stable/introduction.html#installation'.\n",
    "# # %pip install warnings\n",
    "\n",
    "# # # %pip install json\n",
    "# # %pip install numpy\n",
    "# # %pip install geopandas\n",
    "# # %pip install plotly.express\n",
    "# # %pip install cartopy tropycal                   #  'tropycal' package / library, requires 'cartopy': 'https://tropycal.github.io/tropycal/install.html#requirements'.\n",
    "# # # %pip install shapely.geometry\n",
    "\n",
    "# # # %pip install glob\n",
    "# # # %pip install re\n",
    "# # %pip install PyYAML\n",
    "# # # %pip install datetime\n",
    "# # # %pip install zoneinfo\n",
    "# # %pip install pandas\n",
    "# # # %pip install copy\n",
    "# # # %pip install sys\n",
    "# # # %pip install time\n"
   ]
  },
  {
   "cell_type": "code",
   "execution_count": 20,
   "id": "5ec9e730",
   "metadata": {},
   "outputs": [],
   "source": [
    "# #  LIBRARIES / PACKAGES IMPORTS.\n",
    "\n",
    "import os                                   #  To work with directories.\n",
    "from rich import print as rprint            #  Rich text and beautiful formatting.\n",
    "import warnings                             #  For showing warnings to developer.\n",
    "\n",
    "# import json                                 #  To convert Python objects (generally lists and dictionaries with appropiate structure) to JSONs strings (a.k.a. 'dumps'), and viceversa (a.k.a. 'loads').\n",
    "# import numpy as np                          #  Dataframes NaNs to None, and viceversa.\n",
    "# import geopandas as gpd                     #  For loading and manipulating geospatial files.\n",
    "# import plotly.express as px                 #  For building interactive, explorable maps.\n",
    "# from tropycal import tracks                 #  For pulling open-source government hurricane data.\n",
    "# from shapely.geometry import LineString     #  TODO.\n",
    "\n",
    "# # import glob                                 #  For listing files, using UNIX REGEX.\n",
    "# # import re                                   #  For REGEX, listing files, format validation of inputs, etc.\n",
    "# # import yaml                                 #  For managing input files in YAML format.\n",
    "# # import datetime                             #  To manage dates, times, and time durations.\n",
    "# # import zoneinfo                             #  For timezones.\n",
    "# # import pandas as pd                         #  Dataframes, and csv's.\n",
    "# # import copy                                 #  For shallow and deep copies, specially oj objects such as dictionaries, dataframes, etc.\n",
    "# # import sys                                  #  To adjust default system output flush.\n",
    "# # from time import sleep                      #  To manage pauses on code execution, for lyrics / song lines display.\n"
   ]
  },
  {
   "cell_type": "code",
   "execution_count": 21,
   "id": "4db264f1",
   "metadata": {},
   "outputs": [],
   "source": [
    "#  USER DEFINEND FUNCTIONS (UDFs).\n"
   ]
  },
  {
   "cell_type": "code",
   "execution_count": 22,
   "id": "871b5860",
   "metadata": {},
   "outputs": [],
   "source": [
    "#  [Fast user defined function (UDF) definition] Clear terminal / console output.\n",
    "#  [OP01] Traditional way.\n",
    "# def UDFClearOutput() -> None:\n",
    "#     os.system('clear')      #  Executes os function called 'clear'. Either in Linux or Windows, clear() clears terminal / console / CLI output.\n",
    "#     return None\n",
    "#\n",
    "#  [OP02] Using lambda, anonymous / nameless functions. Ref. 'https://www.freecodecamp.org/news/lambda-expressions-in-python/', 'https://www.geeksforgeeks.org/python/python-lambda-anonymous-functions-filter-map-reduce/'.\n",
    "UDFClearOutput = lambda: os.system('clear')\n"
   ]
  },
  {
   "cell_type": "code",
   "execution_count": 23,
   "id": "ebd58379",
   "metadata": {},
   "outputs": [],
   "source": [
    "#  Validate if a DIRECTORY path exists, and creates it (optionally, True by default) if it doesn't exist.\n",
    "def UDFValidateDirectoryExists(IPath: str, ICreateDir: bool = True) -> None:\n",
    "    if (not os.path.exists(IPath)):\n",
    "        warnings.warn(f\"[WARNING] Directory '{IPath}' should exist in order for current script to run properly.\")\n",
    "        if (ICreateDir):\n",
    "            rprint(f\"[LOG] Creating directory: '{IPath}'.\")\n",
    "            os.mkdir(IPath)\n",
    "    else:\n",
    "        rprint(f\"[LOG] Directory found: '{IPath}'.\")\n",
    "    \n",
    "    return None\n"
   ]
  },
  {
   "cell_type": "code",
   "execution_count": 24,
   "id": "68ebd7f0",
   "metadata": {},
   "outputs": [
    {
     "name": "stdout",
     "output_type": "stream",
     "text": [
      "\u001b[H\u001b[2J"
     ]
    },
    {
     "data": {
      "text/plain": [
       "0"
      ]
     },
     "execution_count": 24,
     "metadata": {},
     "output_type": "execute_result"
    }
   ],
   "source": [
    "#  'main()' INITIALIZATION.\n",
    "\n",
    "UDFClearOutput()        #  Clear screen.\n"
   ]
  },
  {
   "cell_type": "code",
   "execution_count": 25,
   "id": "5dfe0fb8",
   "metadata": {},
   "outputs": [],
   "source": [
    "#  INPUTS.\n"
   ]
  },
  {
   "cell_type": "code",
   "execution_count": 27,
   "id": "a42c66df",
   "metadata": {},
   "outputs": [],
   "source": [
    "#  Main directory.\n",
    "\n",
    "_PROJECT_BASE_FILENAME       = 'py3-atria_hubspot_contacts_creation'\n",
    "\n",
    "home_dirpath = None\n",
    "#  How to get a python filepath: 'https://note.nkmk.me/en/python-script-file-path/'.\n",
    "#  How to get a python filepath, considering Jupyter Notebooks: 'https://medium.com/@jennycoreholt/how-to-professionally-import-external-files-in-jupyter-notebooks-4000f1ce16f7'.\n",
    "if '__file__' in globals():\n",
    "    file_filepath   = None\n",
    "    #  If it's a regular python file / module: 'https://stackoverflow.com/questions/38412495/difference-between-os-path-dirnameos-path-abspath-file-and-os-path-dirnam/38412504#38412504', 'https://community.esri.com/t5/python-blog/finding-python-script-home-folder/bc-p/884009/highlight/true'.\n",
    "    #  Alternative: 'https://saturncloud.io/blog/how-to-obtain-jupyter-notebooks-path/'.\n",
    "    file_filepath   = os.path.abspath(__file__)\n",
    "    home_dirpath    = os.path.dirname(file_filepath)\n",
    "else:\n",
    "    #  If it's a Jupyter Notebook: 'https://stackoverflow.com/questions/39125532/file-does-not-exist-in-jupyter-notebook/53958599#53958599', 'https://forums.fast.ai/t/file-dunder-attribute-works-in-py-not-in-notebook/102400/7'.\n",
    "    home_dirpath    = str(globals()['_dh'][0])\n",
    "\n",
    "#  Input: data.\n",
    "input_dirpath_relative_to_home                      = 'io_dir-input'        #  Dirpath relative to home directory.\n",
    "input_configuration_dirpath_relative_to_home        = os.path.join(input_dirpath_relative_to_home, 'config')        #  Directory for configuration files.\n",
    "input_user_parameters_dirpath_relative_to_home      = os.path.join(input_dirpath_relative_to_home, 'user_params')   #  Directory for input user instructions, if required.\n",
    "input_user_files_dirpath_relative_to_home           = os.path.join(input_dirpath_relative_to_home, 'user_files')    #  Directory for user files, if input required.\n",
    "\n",
    "# input_configuration_filenames_regex     = _PROJECT_BASE_FILENAME + r'-input_.*\\.yaml'           #  String literal for RegEx expresion of configuration filenames patterns; e.g. '...-input-<...>.yaml': 'https://www.w3schools.com/python/python_regex.asp', 'https://regex101.com'. Files listing base variables and their structure; e.g. user timezone, column names for dataframes, etc. NOTE: all matching files will be processed the SAME WAY.\n",
    "# input_user_parameters_filename          = _PROJECT_BASE_FILENAME + r'-input_user_params.csv'    #  File listing variables that require input from user; e.g. copy or cut?, file to read, etc. Usually variables used here, SHOULD BE PRE-DECLARED in a YAML configration file; e.g. in 'py3-song_lyrics_terminal_console_display-v250811-input_config.yaml'.\n",
    "# input_user_files_filename_regex         = r'song_lines-.*\\.csv'                                                     #  String literal for RegEx expresion of user filenames patterns; e.g. 'song_lines-<...>.csv': 'https://www.w3schools.com/python/python_regex.asp', 'https://regex101.com'. NOTE: all matching files will be processed the SAME WAY.\n",
    "\n",
    "#  Output.\n",
    "output_dirpath_relative_to_home         = 'io_dir-output'                   #  Dirpath relative to home directory.\n"
   ]
  },
  {
   "cell_type": "code",
   "execution_count": 28,
   "id": "3f353d5c",
   "metadata": {},
   "outputs": [
    {
     "data": {
      "text/html": [
       "<pre style=\"white-space:pre;overflow-x:auto;line-height:normal;font-family:Menlo,'DejaVu Sans Mono',consolas,'Courier New',monospace\"><span style=\"color: #800080; text-decoration-color: #800080\">/workspaces/</span><span style=\"color: #ff00ff; text-decoration-color: #ff00ff\">job_searching_assessments-atria_hubspot_contacts_creation-d250915</span> | io_dir-input | io_dir-input/config \n",
       "| io_dir-input/user_params | io_dir-input/user_files | io_dir-output\n",
       "</pre>\n"
      ],
      "text/plain": [
       "\u001b[35m/workspaces/\u001b[0m\u001b[95mjob_searching_assessments-atria_hubspot_contacts_creation-d250915\u001b[0m | io_dir-input | io_dir-input/config \n",
       "| io_dir-input/user_params | io_dir-input/user_files | io_dir-output\n"
      ]
     },
     "metadata": {},
     "output_type": "display_data"
    }
   ],
   "source": [
    "rprint(\n",
    "    home_dirpath,\n",
    "    input_dirpath_relative_to_home,\n",
    "    input_configuration_dirpath_relative_to_home,\n",
    "    input_user_parameters_dirpath_relative_to_home,\n",
    "    input_user_files_dirpath_relative_to_home,\n",
    "    # input_configuration_filenames_regex,\n",
    "    # input_user_parameters_filename,\n",
    "    # input_user_files_filename_regex,\n",
    "    output_dirpath_relative_to_home,\n",
    "    sep = ' | '\n",
    ")"
   ]
  },
  {
   "cell_type": "code",
   "execution_count": 29,
   "id": "e5f6526b",
   "metadata": {},
   "outputs": [],
   "source": [
    "#  INITIALIZATION.\n"
   ]
  },
  {
   "cell_type": "code",
   "execution_count": 30,
   "id": "c52e1d70",
   "metadata": {},
   "outputs": [
    {
     "data": {
      "text/html": [
       "<pre style=\"white-space:pre;overflow-x:auto;line-height:normal;font-family:Menlo,'DejaVu Sans Mono',consolas,'Courier New',monospace\"><span style=\"font-weight: bold\">[</span>LOG<span style=\"font-weight: bold\">]</span> Current working directory: <span style=\"color: #008000; text-decoration-color: #008000\">'/workspaces/job_searching_assessments-atria_hubspot_contacts_creation-d250915'</span>.\n",
       "</pre>\n"
      ],
      "text/plain": [
       "\u001b[1m[\u001b[0mLOG\u001b[1m]\u001b[0m Current working directory: \u001b[32m'/workspaces/job_searching_assessments-atria_hubspot_contacts_creation-d250915'\u001b[0m.\n"
      ]
     },
     "metadata": {},
     "output_type": "display_data"
    }
   ],
   "source": [
    "#  Print current working directory.\n",
    "working_directory = os.getcwd()\n",
    "rprint(f\"[LOG] Current working directory: '{working_directory}'.\")\n"
   ]
  },
  {
   "cell_type": "code",
   "execution_count": 31,
   "id": "c6de8bf0",
   "metadata": {},
   "outputs": [
    {
     "data": {
      "text/html": [
       "<pre style=\"white-space:pre;overflow-x:auto;line-height:normal;font-family:Menlo,'DejaVu Sans Mono',consolas,'Courier New',monospace\"><span style=\"font-weight: bold\">[</span>LOG<span style=\"font-weight: bold\">]</span> Changing current working directory to: \n",
       "<span style=\"color: #008000; text-decoration-color: #008000\">'/workspaces/job_searching_assessments-atria_hubspot_contacts_creation-d250915'</span>.\n",
       "</pre>\n"
      ],
      "text/plain": [
       "\u001b[1m[\u001b[0mLOG\u001b[1m]\u001b[0m Changing current working directory to: \n",
       "\u001b[32m'/workspaces/job_searching_assessments-atria_hubspot_contacts_creation-d250915'\u001b[0m.\n"
      ]
     },
     "metadata": {},
     "output_type": "display_data"
    },
    {
     "data": {
      "text/html": [
       "<pre style=\"white-space:pre;overflow-x:auto;line-height:normal;font-family:Menlo,'DejaVu Sans Mono',consolas,'Courier New',monospace\"><span style=\"font-weight: bold\">[</span>LOG<span style=\"font-weight: bold\">]</span> Current working directory: <span style=\"color: #008000; text-decoration-color: #008000\">'/workspaces/job_searching_assessments-atria_hubspot_contacts_creation-d250915'</span>.\n",
       "</pre>\n"
      ],
      "text/plain": [
       "\u001b[1m[\u001b[0mLOG\u001b[1m]\u001b[0m Current working directory: \u001b[32m'/workspaces/job_searching_assessments-atria_hubspot_contacts_creation-d250915'\u001b[0m.\n"
      ]
     },
     "metadata": {},
     "output_type": "display_data"
    }
   ],
   "source": [
    "#  Set working directory to 'home'.\n",
    "rprint(f\"[LOG] Changing current working directory to: '{home_dirpath}'.\")\n",
    "os.chdir(home_dirpath)\n",
    "working_directory = os.getcwd()\n",
    "rprint(f\"[LOG] Current working directory: '{working_directory}'.\")\n"
   ]
  },
  {
   "cell_type": "code",
   "execution_count": 32,
   "id": "e1fad9d2",
   "metadata": {},
   "outputs": [],
   "source": [
    "#  [INITIALIZATION] PROJECT BASE STRUCTURE VALIDATION.\n"
   ]
  },
  {
   "cell_type": "code",
   "execution_count": 33,
   "id": "9e63db25",
   "metadata": {},
   "outputs": [
    {
     "data": {
      "text/html": [
       "<pre style=\"white-space:pre;overflow-x:auto;line-height:normal;font-family:Menlo,'DejaVu Sans Mono',consolas,'Courier New',monospace\"><span style=\"font-weight: bold\">[</span>LOG<span style=\"font-weight: bold\">]</span> Directory found: <span style=\"color: #008000; text-decoration-color: #008000\">'io_dir-input'</span>.\n",
       "</pre>\n"
      ],
      "text/plain": [
       "\u001b[1m[\u001b[0mLOG\u001b[1m]\u001b[0m Directory found: \u001b[32m'io_dir-input'\u001b[0m.\n"
      ]
     },
     "metadata": {},
     "output_type": "display_data"
    },
    {
     "data": {
      "text/html": [
       "<pre style=\"white-space:pre;overflow-x:auto;line-height:normal;font-family:Menlo,'DejaVu Sans Mono',consolas,'Courier New',monospace\"><span style=\"font-weight: bold\">[</span>LOG<span style=\"font-weight: bold\">]</span> Directory found: <span style=\"color: #008000; text-decoration-color: #008000\">'io_dir-input/config'</span>.\n",
       "</pre>\n"
      ],
      "text/plain": [
       "\u001b[1m[\u001b[0mLOG\u001b[1m]\u001b[0m Directory found: \u001b[32m'io_dir-input/config'\u001b[0m.\n"
      ]
     },
     "metadata": {},
     "output_type": "display_data"
    },
    {
     "data": {
      "text/html": [
       "<pre style=\"white-space:pre;overflow-x:auto;line-height:normal;font-family:Menlo,'DejaVu Sans Mono',consolas,'Courier New',monospace\"><span style=\"font-weight: bold\">[</span>LOG<span style=\"font-weight: bold\">]</span> Directory found: <span style=\"color: #008000; text-decoration-color: #008000\">'io_dir-input/user_params'</span>.\n",
       "</pre>\n"
      ],
      "text/plain": [
       "\u001b[1m[\u001b[0mLOG\u001b[1m]\u001b[0m Directory found: \u001b[32m'io_dir-input/user_params'\u001b[0m.\n"
      ]
     },
     "metadata": {},
     "output_type": "display_data"
    },
    {
     "data": {
      "text/html": [
       "<pre style=\"white-space:pre;overflow-x:auto;line-height:normal;font-family:Menlo,'DejaVu Sans Mono',consolas,'Courier New',monospace\"><span style=\"font-weight: bold\">[</span>LOG<span style=\"font-weight: bold\">]</span> Directory found: <span style=\"color: #008000; text-decoration-color: #008000\">'io_dir-input/user_files'</span>.\n",
       "</pre>\n"
      ],
      "text/plain": [
       "\u001b[1m[\u001b[0mLOG\u001b[1m]\u001b[0m Directory found: \u001b[32m'io_dir-input/user_files'\u001b[0m.\n"
      ]
     },
     "metadata": {},
     "output_type": "display_data"
    }
   ],
   "source": [
    "#  Inputs validations: wheter or not exists input directory.\n",
    "UDFValidateDirectoryExists(input_dirpath_relative_to_home)\n",
    "\n",
    "#  Inputs validations: wheter or not exists configuration sub-directory (of input directory).\n",
    "#  NOTE: it REQUIRES parent directory (input directory) to exist.\n",
    "UDFValidateDirectoryExists(input_configuration_dirpath_relative_to_home)\n",
    "\n",
    "#  Inputs validations: wheter or not exists user parameters sub-directory (of input directory).\n",
    "#  NOTE: it REQUIRES parent directory (input directory) to exist.\n",
    "UDFValidateDirectoryExists(input_user_parameters_dirpath_relative_to_home)\n",
    "\n",
    "#  Inputs validations: wheter or not exists user files sub-directory (of input directory).\n",
    "#  NOTE: it REQUIRES parent directory (input directory) to exist.\n",
    "UDFValidateDirectoryExists(input_user_files_dirpath_relative_to_home)\n"
   ]
  },
  {
   "cell_type": "code",
   "execution_count": 34,
   "id": "f6f2e53a",
   "metadata": {},
   "outputs": [
    {
     "data": {
      "text/html": [
       "<pre style=\"white-space:pre;overflow-x:auto;line-height:normal;font-family:Menlo,'DejaVu Sans Mono',consolas,'Courier New',monospace\"><span style=\"font-weight: bold\">[</span>LOG<span style=\"font-weight: bold\">]</span> Directory found: <span style=\"color: #008000; text-decoration-color: #008000\">'io_dir-output'</span>.\n",
       "</pre>\n"
      ],
      "text/plain": [
       "\u001b[1m[\u001b[0mLOG\u001b[1m]\u001b[0m Directory found: \u001b[32m'io_dir-output'\u001b[0m.\n"
      ]
     },
     "metadata": {},
     "output_type": "display_data"
    }
   ],
   "source": [
    "#  Outputs validations: wheter or not exists output directory.\n",
    "UDFValidateDirectoryExists(output_dirpath_relative_to_home)\n"
   ]
  },
  {
   "cell_type": "code",
   "execution_count": null,
   "id": "a6b84ab3",
   "metadata": {},
   "outputs": [],
   "source": [
    "# [MAIN].\n",
    "\n"
   ]
  },
  {
   "cell_type": "code",
   "execution_count": null,
   "id": "6326bd2a",
   "metadata": {},
   "outputs": [],
   "source": []
  }
 ],
 "metadata": {
  "kernelspec": {
   "display_name": "Python 3",
   "language": "python",
   "name": "python3"
  },
  "language_info": {
   "codemirror_mode": {
    "name": "ipython",
    "version": 3
   },
   "file_extension": ".py",
   "mimetype": "text/x-python",
   "name": "python",
   "nbconvert_exporter": "python",
   "pygments_lexer": "ipython3",
   "version": "3.12.11"
  }
 },
 "nbformat": 4,
 "nbformat_minor": 5
}
