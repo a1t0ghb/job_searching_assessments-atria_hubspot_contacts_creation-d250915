{
 "cells": [
  {
   "cell_type": "markdown",
   "id": "1e8c6a2d",
   "metadata": {},
   "source": [
    "# Versions."
   ]
  },
  {
   "cell_type": "markdown",
   "id": "868ba8cf",
   "metadata": {},
   "source": [
    "## Original version d250915."
   ]
  },
  {
   "cell_type": "code",
   "execution_count": 1,
   "id": "2cc6fdb6",
   "metadata": {},
   "outputs": [],
   "source": [
    "# ----- ----- ----- ----- ----- ----- ----- ----- ----- -----\n",
    "# [1ST TIME CODE EXECUTION] MANUAL VERIFICATIONS.\n"
   ]
  },
  {
   "cell_type": "code",
   "execution_count": 2,
   "id": "d6d3ab43",
   "metadata": {},
   "outputs": [],
   "source": [
    "# #  Distro. update.\n",
    "\n",
    "# !sudo apt update && sudo apt -y upgrade && sudo apt autoremove"
   ]
  },
  {
   "cell_type": "code",
   "execution_count": 3,
   "id": "f85e9acb",
   "metadata": {},
   "outputs": [
    {
     "name": "stdout",
     "output_type": "stream",
     "text": [
      "Python 3.12.11\n",
      "pip 25.2 from /home/vscode/.local/lib/python3.12/site-packages/pip (python 3.12)\n",
      "Note: you may need to restart the kernel to use updated packages.\n"
     ]
    }
   ],
   "source": [
    "#  Distro. 'python' and 'pip' versions.\n",
    "\n",
    "!python --version\n",
    "%pip --version          #  '!pip' vs '%pip': 'https://medium.com/@aroffe9/installing-python-packages-in-jupyter-notebooks-ca7dc7dd7535'.\n"
   ]
  },
  {
   "cell_type": "code",
   "execution_count": 4,
   "id": "ee9c0d87",
   "metadata": {},
   "outputs": [],
   "source": [
    "# #  List of installed packages.\n",
    "\n",
    "# %pip list\n"
   ]
  },
  {
   "cell_type": "code",
   "execution_count": 5,
   "id": "dc0329ed",
   "metadata": {},
   "outputs": [
    {
     "name": "stdout",
     "output_type": "stream",
     "text": [
      "Version: 14.1.0\n",
      "Note: you may need to restart the kernel to use updated packages.\n",
      "Version: 6.0.2\n",
      "Note: you may need to restart the kernel to use updated packages.\n",
      "Version: 2.3.2\n",
      "    Licensed under the Apache License, Version 2.0 (the \"License\");\n",
      "                            Version 2.0, January 2004\n",
      " Python Software Foundation License Version 2.\n",
      " the documentation are dual licensed under the PSF License Version 2\n",
      " Version 2.0, January 2004\n",
      "    Licensed under the Apache License, Version 2.0 (the \"License\");\n",
      "Note: you may need to restart the kernel to use updated packages.\n"
     ]
    }
   ],
   "source": [
    "#  Validate MANUALLY, ONE AT A TIME, if packages are installed.\n",
    "\n",
    "# %pip show os | grep Verssion            #  Built-in module, no need to install; only import.\n",
    "%pip show rich | grep Version\n",
    "# %pip show warnings | grep Version       #  Built-in module, no need to install; only import.\n",
    "# %pip show glob | grep Version           #  Built-in module, no need to install; only import.\n",
    "# %pip show re | grep Version             #  Built-in module, no need to install; only import.\n",
    "%pip show PyYAML | grep Version\n",
    "# %pip show datetime | grep Version       #  Built-in module, no need to install; only import.\n",
    "# %pip show zoneinfo | grep Version       #  Built-in module, no need to install; only import.\n",
    "%pip show pandas | grep Version\n",
    "# %pip show copy | grep Version           #  Built-in module, no need to install; only import.\n",
    "\n",
    "\n",
    "# # %pip show json | grep Version           #  Built-in module, no need to install; only import.\n",
    "# %pip show numpy | grep Version\n",
    "# %pip show geopandas | grep Version\n",
    "# %pip show plotly.express | grep Version\n",
    "# %pip show cartopy | grep Version\n",
    "# %pip show tropycal | grep Version\n",
    "# %pip show shapely.geometry | grep Version   # TODO.\n",
    "\n",
    "# # %pip show sys | grep Version            #  Built-in module, no need to install; only import.\n",
    "# # %pip show time | grep Version           #  Built-in module, no need to install; only import."
   ]
  },
  {
   "cell_type": "code",
   "execution_count": null,
   "id": "ed371c77",
   "metadata": {},
   "outputs": [],
   "source": [
    "#  [1ST TIME CODE EXECUTION] PACKAGES INSTALLATION: required for every NEW runtime.\n",
    "\n",
    "#  To upgrade a package, add '-U' parameter before package name. e.g. '!pip install -U sys'.\n",
    "%pip install --upgrade pip setuptools           #  Keep pip, and complement updated: 'https://simpleaudio.readthedocs.io/en/latest/installation.html#installation', 'https://stackoverflow.com/questions/41216875/what-is-the-purpose-of-python-setuptools/41217568#41217568'.\n",
    "\n",
    "# %pip install os\n",
    "# %pip install rich                               #  Uses:  'https://www.freecodecamp.org/news/use-the-rich-library-in-python/'.\n",
    "%pip install rich[jupyter]                      #  If intended to use rich with Jupyter: 'https://rich.readthedocs.io/en/stable/introduction.html#installation'.\n",
    "# %pip install warnings\n",
    "# %pip install glob\n",
    "# %pip install re\n",
    "%pip install PyYAML\n",
    "# %pip install datetime\n",
    "# %pip install zoneinfo\n",
    "%pip install pandas\n",
    "# %pip install copy\n",
    "\n",
    "# # %pip install json\n",
    "# %pip install numpy\n",
    "# %pip install geopandas\n",
    "# %pip install plotly.express\n",
    "# %pip install cartopy tropycal                   #  'tropycal' package / library, requires 'cartopy': 'https://tropycal.github.io/tropycal/install.html#requirements'.\n",
    "# # %pip install shapely.geometry\n",
    "\n",
    "# # %pip install sys\n",
    "# # %pip install time\n"
   ]
  },
  {
   "cell_type": "code",
   "execution_count": 6,
   "id": "5ec9e730",
   "metadata": {},
   "outputs": [],
   "source": [
    "# #  LIBRARIES / PACKAGES IMPORTS.\n",
    "\n",
    "import os                                   #  To work with directories.\n",
    "from rich import print as rprint            #  Rich text and beautiful formatting.\n",
    "import warnings                             #  For showing warnings to developer.\n",
    "import glob                                 #  For listing files, using UNIX REGEX.\n",
    "import re                                   #  For REGEX, listing files, format validation of inputs, etc.\n",
    "import yaml                                 #  For managing input files in YAML format.\n",
    "import datetime                             #  To manage dates, times, and time durations.\n",
    "import zoneinfo                             #  For timezones.\n",
    "import pandas as pd                         #  Dataframes, and csv's.\n",
    "import copy                                 #  For shallow and deep copies, specially oj objects such as dictionaries, dataframes, etc.\n",
    "\n",
    "# import json                                 #  To convert Python objects (generally lists and dictionaries with appropiate structure) to JSONs strings (a.k.a. 'dumps'), and viceversa (a.k.a. 'loads').\n",
    "# import numpy as np                          #  Dataframes NaNs to None, and viceversa.\n",
    "# import geopandas as gpd                     #  For loading and manipulating geospatial files.\n",
    "# import plotly.express as px                 #  For building interactive, explorable maps.\n",
    "# from tropycal import tracks                 #  For pulling open-source government hurricane data.\n",
    "# from shapely.geometry import LineString     #  TODO.\n",
    "\n",
    "# import sys                                  #  To adjust default system output flush.\n",
    "# from time import sleep                      #  To manage pauses on code execution, for lyrics / song lines display.\n"
   ]
  },
  {
   "cell_type": "code",
   "execution_count": 7,
   "id": "4db264f1",
   "metadata": {},
   "outputs": [],
   "source": [
    "#  USER DEFINEND FUNCTIONS (UDFs).\n"
   ]
  },
  {
   "cell_type": "code",
   "execution_count": 8,
   "id": "871b5860",
   "metadata": {},
   "outputs": [],
   "source": [
    "#  [Fast user defined function (UDF) definition] Clear terminal / console output.\n",
    "#  [OP01] Traditional way.\n",
    "# def UDFClearOutput() -> None:\n",
    "#     os.system('clear')      #  Executes os function called 'clear'. Either in Linux or Windows, clear() clears terminal / console / CLI output.\n",
    "#     return None\n",
    "#\n",
    "#  [OP02] Using lambda, anonymous / nameless functions. Ref. 'https://www.freecodecamp.org/news/lambda-expressions-in-python/', 'https://www.geeksforgeeks.org/python/python-lambda-anonymous-functions-filter-map-reduce/'.\n",
    "UDFClearOutput = lambda: os.system('clear')\n"
   ]
  },
  {
   "cell_type": "code",
   "execution_count": 9,
   "id": "ebd58379",
   "metadata": {},
   "outputs": [],
   "source": [
    "#  Validate if a DIRECTORY path exists, and creates it (optionally, True by default) if it doesn't exist.\n",
    "def UDFValidateDirectoryExists(IPath: str, ICreateDir: bool = True) -> None:\n",
    "    if (not os.path.exists(IPath)):\n",
    "        warnings.warn(f\"[WARNING] Directory '{IPath}' should exist in order for current script to run properly.\")\n",
    "        if (ICreateDir):\n",
    "            rprint(f\"[LOG] Creating directory: '{IPath}'.\")\n",
    "            os.mkdir(IPath)\n",
    "    else:\n",
    "        rprint(f\"[LOG] Directory found: '{IPath}'.\")\n",
    "    \n",
    "    return None\n"
   ]
  },
  {
   "cell_type": "code",
   "execution_count": 10,
   "id": "331a4027",
   "metadata": {},
   "outputs": [],
   "source": [
    "#  Search for basename paths (i.e. files OR directories), starting from a given directory (CURRENT working directory, if not provided) in a RECURSIVELY manner.\n",
    "def UDFSearchPaths(IBasename: str, IDirpath: str = '**') -> list:\n",
    "    basename_regex = IBasename.encode('unicode-escape').decode('unicode-escape') + r'$'     #  Python raw strings and RegEx: 'https://www.digitalocean.com/community/tutorials/python-raw-string'.\n",
    "    search_space_pattern = IDirpath if (IDirpath == '**') else (IDirpath + '/**')\n",
    "    filepaths_list = [i for i in glob.iglob(search_space_pattern, recursive = True) if re.search(basename_regex, i, re.IGNORECASE)]     #  RegEx re.search() vs. re.match(): 'https://www.geeksforgeeks.org/python/python-re-search-vs-re-match/'.\n",
    "    #  Throws an AssertionError, if no path found.\n",
    "    assert len(filepaths_list) > 0, f\"[ERROR] File or directory called '{basename_regex[:-1]}' (after unicode escaping) should exist in order for current script to run properly.\"\n",
    "    \n",
    "    return filepaths_list\n"
   ]
  },
  {
   "cell_type": "code",
   "execution_count": 11,
   "id": "8ad8a197",
   "metadata": {},
   "outputs": [],
   "source": [
    "#  Converts to basic* data types; it requires at MINIMUM: value to convert, and specify it's data type.\n",
    "#  - *No-iterables: null, boolean, string, integer, decimal, complex, and numeric range (last one, returns a list).\n",
    "#  - *Iterables: list, tuple, and set. These requiere additionally specification of the data subtype (i.e. type of their elements).\n",
    "#  It returns the converted value, or 'None' if any mistake on the inputs like:\n",
    "#  - The data type is not of any of the basic* data types.\n",
    "def UDFConvertToBasicDataTypes(IValue, IDataType: str, IDataSubType = None):\n",
    "    \n",
    "    value_string                = str(IValue).strip()           #  It tries ALWAYS to convert value to string, as a starting point.\n",
    "    data_type                   = str(IDataType).strip()        #  It tries ALWAYS to convert the input of data type to string, and clean it.\n",
    "    data_subtype                = str(IDataSubType).strip() if (IDataSubType is not None) else (None)   #  By default is 'None'; otherwise, try to clean it.\n",
    "    value_converted             = None\n",
    "    DATA_TYPES                  = (\n",
    "        'null', 'boolean', 'string', 'integer', 'decimal', 'complex', 'range'\n",
    "        , 'date and/or time (with or without timezone)'\n",
    "        , 'time duration'\n",
    "        , 'list', 'tuple', 'set'\n",
    "    )\n",
    "    DATA_TYPES_FOR_ITERABLES    = (\n",
    "        'null', 'boolean', 'string', 'integer', 'decimal', 'complex', 'range'\n",
    "        , 'date and/or time (with or without timezone)'\n",
    "        , 'time duration'\n",
    "    )\n",
    "\n",
    "    if data_type not in DATA_TYPES:\n",
    "        value_converted = None\n",
    "    else:\n",
    "        if data_type == 'null':\n",
    "            value_converted = None\n",
    "        if data_type == 'boolean':\n",
    "            value_converted = True if (value_string.lower().capitalize() == 'True') else (False)\n",
    "        if data_type == 'string':\n",
    "            value_converted = value_string\n",
    "        if data_type == 'integer':\n",
    "            value_converted = int(value_string)\n",
    "        if data_type == 'decimal':\n",
    "            value_converted = float(value_string)\n",
    "        if data_type == 'complex':\n",
    "            value_converted = complex(value_string)\n",
    "        if data_type == 'range':\n",
    "            value_converted = list(range(int(value_string)))\n",
    "        if data_type == 'date and/or time (with or without timezone)':\n",
    "            date_time_timezone_format = ''\n",
    "            date_time = None\n",
    "            date_time_timezone = None\n",
    "            #  RegEx expression for searching matches:\n",
    "            #+ YYYY/MM/DD HH:MM:SS.X[+/-]timezone(in HHMM),\n",
    "            #+ where YYYY: [1900, 2099], MM: [01, 12], DD: [01, 31], HH: [00, 23], MM: [00, 59], SS: [00, 59], X: [0, 999999].\n",
    "            #+ e.g. '2011/08/15 12:45:01.095673-0500'.\n",
    "            #  Test at 'https://regex101.com'.\n",
    "            date_time_timezone_regex = r'^(?P<date>(?P<year>(19|20)\\d{2})/(?P<month>0[1-9]|1[0-2])/(?P<day>0[1-9]|[12][0-9]|3[0-1])\\b)? ?(?P<time>\\b(?P<hour>[01][0-9]|2[0-3]):(?P<min>[0-5][0-9]):(?P<sec>[0-5][0-9])(\\.(?P<microsec>\\d{1,6}))?(?P<timezone>(?P<timezone_sign>[+-])(?P<timezone_hour>[01][0-9]|2[0-3])(?P<timezone_min>[0-5][0-9]))?)?$'\n",
    "            regex_match = re.search(date_time_timezone_regex, value_string)    #  If using re.match(), date_time_timezone_regex = r'...' DOESN'T require '^'; i.e. RegEx re.search() vs. re.match(): 'https://www.geeksforgeeks.org/python/python-re-search-vs-re-match/'.\n",
    "            if regex_match is not None:\n",
    "                #  e.g. '2011/08/15 12:45:01.095673-0500'.\n",
    "                #  date_time_timezone_format = '%Y/%m/%d %H:%M:%S.%f%z'    :date+time+tz    : datetime.datetime.strptime(value_string, date_time_timezone_format) > datetime.datetime.\n",
    "                #  date_time_timezone_format = '%Y/%m/%d %H:%M:%S.%f'      :date+time       : datetime.datetime.strptime(value_string, date_time_timezone_format) > datetime.datetime.\n",
    "                #  date_time_timezone_format = '%Y/%m/%d %H:%M:%S'         :date+time       : datetime.datetime.strptime(value_string, date_time_timezone_format) > datetime.datetime.\n",
    "                #  date_time_timezone_format = '%Y/%m/%d'                  :date            : datetime.datetime.strptime(value_string, date_time_timezone_format) > datetime.date.\n",
    "                #  date_time_timezone_format = '%H:%M:%S'                  :time            : datetime.datetime.strptime(value_string, date_time_timezone_format) > datetime.time.\n",
    "                #  date_time_timezone_format = '%H:%M:%S.%f'               :time            : datetime.datetime.strptime(value_string, date_time_timezone_format) > datetime.time.\n",
    "                #  date_time_timezone_format = '%H:%M:%S.%f%z'             :time+tz         : datetime.datetime.strptime(value_string, date_time_timezone_format) > datetime.time.\n",
    "                term = (regex_match.group('date') is not None, regex_match.group('time') is not None, regex_match.group('microsec') is not None, regex_match.group('timezone') is not None)\n",
    "                match term:\n",
    "                    case (True, True, True, True):          #  e.g. '2011/08/15 12:45:01.095673-0500'.\n",
    "                        date_time_timezone_format           = '%Y/%m/%d %H:%M:%S.%f%z'\n",
    "                        date_time                           = datetime.datetime.strptime(value_string, date_time_timezone_format)\n",
    "                        date_time_timezone                  = date_time\n",
    "                    case (True, True, True, False):         #  e.g. '2011/08/15 12:45:01.095673'.\n",
    "                        date_time_timezone_format           = '%Y/%m/%d %H:%M:%S.%f'\n",
    "                        date_time                           = datetime.datetime.strptime(value_string, date_time_timezone_format)\n",
    "                        date_time_timezone                  = date_time\n",
    "                    case (True, True, False, False):        #  e.g. '2011/08/15 12:45:01'.\n",
    "                        date_time_timezone_format           = '%Y/%m/%d %H:%M:%S'\n",
    "                        date_time                           = datetime.datetime.strptime(value_string, date_time_timezone_format)\n",
    "                        date_time_timezone                  = date_time\n",
    "                    case (True, False, False, False):       #  e.g. '2011/08/15'.\n",
    "                        date_time_timezone_format           = '%Y/%m/%d'\n",
    "                        date_time                           = datetime.datetime.strptime(value_string, date_time_timezone_format)\n",
    "                        date_time_timezone                  = date_time.date()\n",
    "                    case (False, True, False, False):       #  e.g. '12:45:01'.\n",
    "                        date_time_timezone_format           = '%H:%M:%S'\n",
    "                        date_time                           = datetime.datetime.strptime(value_string, date_time_timezone_format)\n",
    "                        date_time_timezone                  = date_time.time()\n",
    "                    case (False, True, True, False):        #  e.g. '12:45:01.095673'.\n",
    "                        date_time_timezone_format           = '%H:%M:%S.%f'\n",
    "                        date_time                           = datetime.datetime.strptime(value_string, date_time_timezone_format)\n",
    "                        date_time_timezone                  = date_time.time()\n",
    "                    case (False, True, True, True):         #  e.g. '12:45:01.095673-0500'. NOTE: timezone data will be lost, since only a 'datetime.datetime' object can store timezone data; not 'datetime.date' nor 'datetime.time' alone.\n",
    "                        date_time_timezone_format           = '%H:%M:%S.%f%z'\n",
    "                        date_time                           = datetime.datetime.strptime(value_string, date_time_timezone_format)\n",
    "                        date_time_timezone                  = date_time.time()\n",
    "                    case _:                                 #  'Default'.\n",
    "                        warnings.warn(f\"Entry: '{value_string}' doesn't match the format; entry won't be processed. Please review it follows the format: 'YYYY/MM/DD HH:MM:SS.X[+/-]timezone(in HHMM)', where YYYY: [1900, 2099], MM: [01, 12], DD: [01, 31], HH: [00, 23], MM: [00, 59], SS: [00, 59], X: [0, 999999]; e.g. '2011/08/15 12:45:01.095673-0500'.\")\n",
    "            else:\n",
    "                warnings.warn(f\"Entry: '{value_string}' doesn't match the format; entry won't be processed. Please review it follows the format: 'YYYY/MM/DD HH:MM:SS.X[+/-]timezone(in HHMM)', where YYYY: [1900, 2099], MM: [01, 12], DD: [01, 31], HH: [00, 23], MM: [00, 59], SS: [00, 59], X: [0, 999999]; e.g. '2011/08/15 12:45:01.095673-0500'.\")\n",
    "            value_converted = date_time_timezone\n",
    "        if data_type == 'time duration':\n",
    "            time_delta = None\n",
    "            #  Format for time splitting:\n",
    "            #+ HH:MM:SS,\n",
    "            #+ where HH: number (integer or decimal), MM: number (integer or decimal), SS: number (integer or decimal).\n",
    "            #+ e.g. 2 days > 24h*2 > '48:00:00'; 36 min and 2.56 sec > '36:2.56'.\n",
    "            term = tuple(map(float, value_string.split(':')))\n",
    "            match term:\n",
    "                case (split_hours, split_minutes, split_seconds):\n",
    "                    time_delta = datetime.timedelta(hours = split_hours, minutes = split_minutes, seconds = split_seconds)\n",
    "                case (split_minutes, split_seconds):\n",
    "                    time_delta = datetime.timedelta(minutes = split_minutes, seconds = split_seconds)\n",
    "                case (split_seconds, ):\n",
    "                    time_delta = datetime.timedelta(seconds = split_seconds)\n",
    "                case _:                                     #  'Default'.\n",
    "                    warnings.warn(f\"Entry: '{value_string}' doesn't match the format; entry won't be processed. Please review it follows the format: 'HH:MM:SS', where HH: number (integer or decimal), MM: number (integer or decimal), SS: number (integer or decimal); e.g. 2 days > 24h*2 > '48:00:00'; 36 min and 2.56 sec > '36:2.56'\")\n",
    "                    # time_delta = datetime.timedelta()     # '0:00:00'. If ever required in a future, but right now, default return for no matches is 'None'.\n",
    "            value_converted = time_delta\n",
    "        if data_subtype in DATA_TYPES_FOR_ITERABLES:            #  To avoid INFINITE RECURSIVENESS; e.g. data_type: 'list', and data_subtype: 'tuple'.\n",
    "            #  Use of 'map()' to apply a function to iterable(s): 'https://www.geeksforgeeks.org/python/python-map-function/', 'https://www.w3schools.com/python/ref_func_map.asp'.\n",
    "            #  Repeat an element, several times in a list: 'https://stackoverflow.com/questions/3459098/create-list-of-single-item-repeated-n-times/3459131#3459131'.\n",
    "            if data_type == 'list':\n",
    "                value_converted = list(map(UDFConvertToBasicDataTypes, value_string.split('|'), [data_subtype] * len(value_string.split('|'))))\n",
    "            if data_type == 'tuple':\n",
    "                value_converted = tuple(map(UDFConvertToBasicDataTypes, value_string.split('|'), [data_subtype] * len(value_string.split('|'))))\n",
    "            if data_type == 'set':\n",
    "                value_converted = set(map(UDFConvertToBasicDataTypes, value_string.split('|'), [data_subtype] * len(value_string.split('|'))))\n",
    "\n",
    "    return value_converted\n"
   ]
  },
  {
   "cell_type": "code",
   "execution_count": 12,
   "id": "af94e9f3",
   "metadata": {},
   "outputs": [],
   "source": [
    "#  Creates a dictionary of variables, with proper data conversion.\n",
    "#  - IT REQUIRES CUSTOM FUNCTION UDFConvertToBasicDataTypes().\n",
    "#  - Input is a LIST in proper format for each variable:\n",
    "#+ [ { 'name': <variable_name>, 'type': <variable_type_from_UDFConvertToBasicDataTypes()>, 'subtype': <variable_subtype_from_UDFConvertToBasicDataTypes()>,\n",
    "#+ 'comment': <variable_comment>, 'value': <variable_value> }, { ... } ].\n",
    "#  - Output format: { <variable1_name> : <variable1_value>, <variable2_name> : <variable2_value>, ...}.\n",
    "def UDFCreateVariablesDictionaryFromFormattedList(IList: list) -> dict:\n",
    "    variables_dictionary  = {}\n",
    "    \n",
    "    for index, variable in enumerate(IList):                                                        #  Get index of a list iterator: 'https://www.stellargrove.com/how-to-blog/find-the-index-of-the-iterator-of-a-list'.\n",
    "        (variable_name, variable_type, variable_subtype, variable_comment, variable_value)          = \\\n",
    "        (variable['name'], variable['type'], variable['subtype'], variable['comment'], variable['value'])\n",
    "        #  Validates MINIMUM fields for a variable to be valid; e.g. 'name', and 'type'. Ref. 'https://ellibrodepython.com/assert-python'.\n",
    "        assert all([\n",
    "            variable_name is not None, variable_type is not None\n",
    "            ]), f\"[Variable number '{index + 1}'] In order for a variable to be processed, it requires at MINIMUM: a 'name', and 'type' defined; at least 1 is missing.\"\n",
    "        \n",
    "        variable_name_clean                         = str(variable_name).strip()\n",
    "        variable_type_clean                         = str(variable_type).strip()\n",
    "        variable_subtype_clean                      = str(variable_subtype).strip() if (variable_subtype is not None) else (None)\n",
    "\n",
    "        #  Data transformation.\n",
    "        variables_dictionary[variable_name_clean]   = UDFConvertToBasicDataTypes(variable_value, variable_type_clean, variable_subtype_clean)\n",
    "\n",
    "    return variables_dictionary\n"
   ]
  },
  {
   "cell_type": "code",
   "execution_count": 13,
   "id": "823e94a9",
   "metadata": {},
   "outputs": [],
   "source": [
    "#  Load variables from formatted dictionary into globals().\n",
    "def UDFLoadVariablesToGlobals(IDictionary: dict) -> None:\n",
    "    for variable_name, variable_value in IDictionary.items():\n",
    "        globals()[variable_name] = variable_value\n",
    "    rprint(f\"[LOG] Variables loaded to 'globals()' (x{len(IDictionary)}): '{\"' | '\".join([*IDictionary.keys()])}'.\")\n",
    "\n",
    "    return None\n"
   ]
  },
  {
   "cell_type": "code",
   "execution_count": 14,
   "id": "c7de4b0b",
   "metadata": {},
   "outputs": [],
   "source": [
    "#  Load CSV, SPECIFIC to new contacts; e.g. 'contacts-new_entries.csv'.\n",
    "#  - Input is a csv file in proper format:\n",
    "#+ a. csv file MUST have a header with 'column' names: 'name', 'surname', and 'email'.\n",
    "#+ b. EACH csv record MUST BE of type: 'string, string, string'.\n",
    "#  - Output: a dictionary containing objects.\n",
    "#+ Format is { '<object1_name>': <object1>, '<object2_name>': <object2>, ... }\n",
    "def UDFLoadCSVNewContacts(ICsvFilepath: str) -> list:\n",
    "    objects_dictionary = {}\n",
    "\n",
    "    #  Pandas dataframe custom parameters. 'dtypes' list available at: 'https://pandas.pydata.org/docs/user_guide/basics.html#dtypes'.\n",
    "    DATAFRAME_COLUMN_TYPES = {'name': 'string', 'surname': 'string', 'email': 'string'}\n",
    "    DATAFRAME_COLUMN_NAMES = list(DATAFRAME_COLUMN_TYPES.keys())\n",
    "\n",
    "    #  Create Pandas dataframe, from '.csv' file: 'https://www.datacamp.com/tutorial/pandas-read-csv', 'https://pandas.pydata.org/docs/reference/api/pandas.read_csv.html'.\n",
    "    #  - Forces to avoid creating header from file, ommiting line 0 (first data point).\n",
    "    #  - Header with column names will be provided with list 'DATAFRAME_COLUMN_NAMES'; e.g. 'name', and 'value'.\n",
    "    #  - Columns data types will be provided with list 'DATAFRAME_COLUMN_TYPES'; e.g. dtype 'string' for 'name', and dtype 'object' for 'value' (to keep intended original value).\n",
    "    new_contacts_dataframe = pd.read_csv(ICsvFilepath, header = 0, names = DATAFRAME_COLUMN_NAMES, dtype = DATAFRAME_COLUMN_TYPES)\n",
    "\n",
    "    #  Get row count of pandas dataframe: 'https://stackoverflow.com/questions/15943769/how-do-i-get-the-row-count-of-a-pandas-dataframe/15943975#15943975'.\n",
    "    rprint(f\"[LOG] New contacts imported (x{len(new_contacts_dataframe.index)}), from: '{ICsvFilepath}'.\")\n",
    "\n",
    "    #  Return objects in a dictionary.\n",
    "    #+ 'copy.deepcopy()' function should be used outside of this function, whenever is called. Putting it here, would be inefficient in terms of memory.\n",
    "    #+ Ref. 'https://www.geeksforgeeks.org/python/copy-python-deep-copy-shallow-copy/'.\n",
    "    objects_dictionary = {\n",
    "        'new_contacts_dataframe': new_contacts_dataframe\n",
    "    }\n",
    "\n",
    "    return objects_dictionary\n"
   ]
  },
  {
   "cell_type": "code",
   "execution_count": 15,
   "id": "68ebd7f0",
   "metadata": {},
   "outputs": [
    {
     "name": "stdout",
     "output_type": "stream",
     "text": [
      "\u001b[H\u001b[2J"
     ]
    },
    {
     "data": {
      "text/plain": [
       "0"
      ]
     },
     "execution_count": 15,
     "metadata": {},
     "output_type": "execute_result"
    }
   ],
   "source": [
    "#  'main()' INITIALIZATION.\n",
    "\n",
    "UDFClearOutput()        #  Clear screen.\n"
   ]
  },
  {
   "cell_type": "code",
   "execution_count": 16,
   "id": "5dfe0fb8",
   "metadata": {},
   "outputs": [],
   "source": [
    "#  INPUTS.\n"
   ]
  },
  {
   "cell_type": "code",
   "execution_count": 17,
   "id": "a42c66df",
   "metadata": {},
   "outputs": [],
   "source": [
    "#  Main directory.\n",
    "\n",
    "_PROJECT_BASE_FILENAME       = 'py3-atria_hubspot_contacts_creation'\n",
    "\n",
    "home_dirpath = None\n",
    "#  How to get a python filepath: 'https://note.nkmk.me/en/python-script-file-path/'.\n",
    "#  How to get a python filepath, considering Jupyter Notebooks: 'https://medium.com/@jennycoreholt/how-to-professionally-import-external-files-in-jupyter-notebooks-4000f1ce16f7'.\n",
    "if '__file__' in globals():\n",
    "    file_filepath   = None\n",
    "    #  If it's a regular python file / module: 'https://stackoverflow.com/questions/38412495/difference-between-os-path-dirnameos-path-abspath-file-and-os-path-dirnam/38412504#38412504', 'https://community.esri.com/t5/python-blog/finding-python-script-home-folder/bc-p/884009/highlight/true'.\n",
    "    #  Alternative: 'https://saturncloud.io/blog/how-to-obtain-jupyter-notebooks-path/'.\n",
    "    file_filepath   = os.path.abspath(__file__)\n",
    "    home_dirpath    = os.path.dirname(file_filepath)\n",
    "else:\n",
    "    #  If it's a Jupyter Notebook: 'https://stackoverflow.com/questions/39125532/file-does-not-exist-in-jupyter-notebook/53958599#53958599', 'https://forums.fast.ai/t/file-dunder-attribute-works-in-py-not-in-notebook/102400/7'.\n",
    "    home_dirpath    = str(globals()['_dh'][0])\n",
    "\n",
    "#  Input: data.\n",
    "input_dirpath_relative_to_home                      = 'io_dir-input'        #  Dirpath relative to home directory.\n",
    "input_configuration_dirpath_relative_to_home        = os.path.join(input_dirpath_relative_to_home, 'config')        #  Directory for configuration files.\n",
    "input_user_parameters_dirpath_relative_to_home      = os.path.join(input_dirpath_relative_to_home, 'user_params')   #  Directory for input user instructions, if required.\n",
    "input_user_files_dirpath_relative_to_home           = os.path.join(input_dirpath_relative_to_home, 'user_files')    #  Directory for user files, if input required.\n",
    "\n",
    "input_configuration_filenames_regex     = _PROJECT_BASE_FILENAME + r'-input_.*\\.yaml'           #  String literal for RegEx expresion of configuration filenames patterns; e.g. '...-input-<...>.yaml': 'https://www.w3schools.com/python/python_regex.asp', 'https://regex101.com'. Files listing base variables and their structure; e.g. user timezone, column names for dataframes, etc. NOTE: all matching files will be processed the SAME WAY.\n",
    "# input_user_parameters_filename          = _PROJECT_BASE_FILENAME + r'-input_user_params.csv'    #  File listing variables that require input from user; e.g. copy or cut?, file to read, etc. Usually variables used here, SHOULD BE PRE-DECLARED in a YAML configration file; e.g. in 'py3-song_lyrics_terminal_console_display-v250811-input_config.yaml'.\n",
    "input_user_files_filename_regex         = r'contacts-.*\\.csv'                                                     #  String literal for RegEx expresion of user filenames patterns; e.g. 'song_lines-<...>.csv': 'https://www.w3schools.com/python/python_regex.asp', 'https://regex101.com'. NOTE: all matching files will be processed the SAME WAY.\n",
    "\n",
    "#  Output.\n",
    "output_dirpath_relative_to_home         = 'io_dir-output'                   #  Dirpath relative to home directory.\n"
   ]
  },
  {
   "cell_type": "code",
   "execution_count": 18,
   "id": "3f353d5c",
   "metadata": {},
   "outputs": [
    {
     "data": {
      "text/html": [
       "<pre style=\"white-space:pre;overflow-x:auto;line-height:normal;font-family:Menlo,'DejaVu Sans Mono',consolas,'Courier New',monospace\"><span style=\"color: #800080; text-decoration-color: #800080\">/workspaces/</span><span style=\"color: #ff00ff; text-decoration-color: #ff00ff\">job_searching_assessments-atria_hubspot_contacts_creation-d250915</span> | io_dir-input | io_dir-input/config \n",
       "| io_dir-input/user_params | io_dir-input/user_files | py3-atria_hubspot_contacts_creation-input_.*\\.yaml | \n",
       "contacts-.*\\.csv | io_dir-output\n",
       "</pre>\n"
      ],
      "text/plain": [
       "\u001b[35m/workspaces/\u001b[0m\u001b[95mjob_searching_assessments-atria_hubspot_contacts_creation-d250915\u001b[0m | io_dir-input | io_dir-input/config \n",
       "| io_dir-input/user_params | io_dir-input/user_files | py3-atria_hubspot_contacts_creation-input_.*\\.yaml | \n",
       "contacts-.*\\.csv | io_dir-output\n"
      ]
     },
     "metadata": {},
     "output_type": "display_data"
    }
   ],
   "source": [
    "rprint(\n",
    "    home_dirpath,\n",
    "    input_dirpath_relative_to_home,\n",
    "    input_configuration_dirpath_relative_to_home,\n",
    "    input_user_parameters_dirpath_relative_to_home,\n",
    "    input_user_files_dirpath_relative_to_home,\n",
    "    input_configuration_filenames_regex,\n",
    "    # input_user_parameters_filename,\n",
    "    input_user_files_filename_regex,\n",
    "    output_dirpath_relative_to_home,\n",
    "    sep = ' | '\n",
    ")"
   ]
  },
  {
   "cell_type": "code",
   "execution_count": 19,
   "id": "e5f6526b",
   "metadata": {},
   "outputs": [],
   "source": [
    "#  INITIALIZATION.\n"
   ]
  },
  {
   "cell_type": "code",
   "execution_count": 20,
   "id": "c52e1d70",
   "metadata": {},
   "outputs": [
    {
     "data": {
      "text/html": [
       "<pre style=\"white-space:pre;overflow-x:auto;line-height:normal;font-family:Menlo,'DejaVu Sans Mono',consolas,'Courier New',monospace\"><span style=\"font-weight: bold\">[</span>LOG<span style=\"font-weight: bold\">]</span> Current working directory: <span style=\"color: #008000; text-decoration-color: #008000\">'/workspaces/job_searching_assessments-atria_hubspot_contacts_creation-d250915'</span>.\n",
       "</pre>\n"
      ],
      "text/plain": [
       "\u001b[1m[\u001b[0mLOG\u001b[1m]\u001b[0m Current working directory: \u001b[32m'/workspaces/job_searching_assessments-atria_hubspot_contacts_creation-d250915'\u001b[0m.\n"
      ]
     },
     "metadata": {},
     "output_type": "display_data"
    }
   ],
   "source": [
    "#  Print current working directory.\n",
    "working_directory = os.getcwd()\n",
    "rprint(f\"[LOG] Current working directory: '{working_directory}'.\")\n"
   ]
  },
  {
   "cell_type": "code",
   "execution_count": 21,
   "id": "c6de8bf0",
   "metadata": {},
   "outputs": [
    {
     "data": {
      "text/html": [
       "<pre style=\"white-space:pre;overflow-x:auto;line-height:normal;font-family:Menlo,'DejaVu Sans Mono',consolas,'Courier New',monospace\"><span style=\"font-weight: bold\">[</span>LOG<span style=\"font-weight: bold\">]</span> Changing current working directory to: \n",
       "<span style=\"color: #008000; text-decoration-color: #008000\">'/workspaces/job_searching_assessments-atria_hubspot_contacts_creation-d250915'</span>.\n",
       "</pre>\n"
      ],
      "text/plain": [
       "\u001b[1m[\u001b[0mLOG\u001b[1m]\u001b[0m Changing current working directory to: \n",
       "\u001b[32m'/workspaces/job_searching_assessments-atria_hubspot_contacts_creation-d250915'\u001b[0m.\n"
      ]
     },
     "metadata": {},
     "output_type": "display_data"
    },
    {
     "data": {
      "text/html": [
       "<pre style=\"white-space:pre;overflow-x:auto;line-height:normal;font-family:Menlo,'DejaVu Sans Mono',consolas,'Courier New',monospace\"><span style=\"font-weight: bold\">[</span>LOG<span style=\"font-weight: bold\">]</span> Current working directory: <span style=\"color: #008000; text-decoration-color: #008000\">'/workspaces/job_searching_assessments-atria_hubspot_contacts_creation-d250915'</span>.\n",
       "</pre>\n"
      ],
      "text/plain": [
       "\u001b[1m[\u001b[0mLOG\u001b[1m]\u001b[0m Current working directory: \u001b[32m'/workspaces/job_searching_assessments-atria_hubspot_contacts_creation-d250915'\u001b[0m.\n"
      ]
     },
     "metadata": {},
     "output_type": "display_data"
    }
   ],
   "source": [
    "#  Set working directory to 'home'.\n",
    "rprint(f\"[LOG] Changing current working directory to: '{home_dirpath}'.\")\n",
    "os.chdir(home_dirpath)\n",
    "working_directory = os.getcwd()\n",
    "rprint(f\"[LOG] Current working directory: '{working_directory}'.\")\n"
   ]
  },
  {
   "cell_type": "code",
   "execution_count": 22,
   "id": "e1fad9d2",
   "metadata": {},
   "outputs": [],
   "source": [
    "#  [INITIALIZATION] PROJECT BASE STRUCTURE VALIDATION.\n"
   ]
  },
  {
   "cell_type": "code",
   "execution_count": 23,
   "id": "9e63db25",
   "metadata": {},
   "outputs": [
    {
     "data": {
      "text/html": [
       "<pre style=\"white-space:pre;overflow-x:auto;line-height:normal;font-family:Menlo,'DejaVu Sans Mono',consolas,'Courier New',monospace\"><span style=\"font-weight: bold\">[</span>LOG<span style=\"font-weight: bold\">]</span> Directory found: <span style=\"color: #008000; text-decoration-color: #008000\">'io_dir-input'</span>.\n",
       "</pre>\n"
      ],
      "text/plain": [
       "\u001b[1m[\u001b[0mLOG\u001b[1m]\u001b[0m Directory found: \u001b[32m'io_dir-input'\u001b[0m.\n"
      ]
     },
     "metadata": {},
     "output_type": "display_data"
    },
    {
     "data": {
      "text/html": [
       "<pre style=\"white-space:pre;overflow-x:auto;line-height:normal;font-family:Menlo,'DejaVu Sans Mono',consolas,'Courier New',monospace\"><span style=\"font-weight: bold\">[</span>LOG<span style=\"font-weight: bold\">]</span> Directory found: <span style=\"color: #008000; text-decoration-color: #008000\">'io_dir-input/config'</span>.\n",
       "</pre>\n"
      ],
      "text/plain": [
       "\u001b[1m[\u001b[0mLOG\u001b[1m]\u001b[0m Directory found: \u001b[32m'io_dir-input/config'\u001b[0m.\n"
      ]
     },
     "metadata": {},
     "output_type": "display_data"
    },
    {
     "data": {
      "text/html": [
       "<pre style=\"white-space:pre;overflow-x:auto;line-height:normal;font-family:Menlo,'DejaVu Sans Mono',consolas,'Courier New',monospace\"><span style=\"font-weight: bold\">[</span>LOG<span style=\"font-weight: bold\">]</span> Directory found: <span style=\"color: #008000; text-decoration-color: #008000\">'io_dir-input/user_params'</span>.\n",
       "</pre>\n"
      ],
      "text/plain": [
       "\u001b[1m[\u001b[0mLOG\u001b[1m]\u001b[0m Directory found: \u001b[32m'io_dir-input/user_params'\u001b[0m.\n"
      ]
     },
     "metadata": {},
     "output_type": "display_data"
    },
    {
     "data": {
      "text/html": [
       "<pre style=\"white-space:pre;overflow-x:auto;line-height:normal;font-family:Menlo,'DejaVu Sans Mono',consolas,'Courier New',monospace\"><span style=\"font-weight: bold\">[</span>LOG<span style=\"font-weight: bold\">]</span> Directory found: <span style=\"color: #008000; text-decoration-color: #008000\">'io_dir-input/user_files'</span>.\n",
       "</pre>\n"
      ],
      "text/plain": [
       "\u001b[1m[\u001b[0mLOG\u001b[1m]\u001b[0m Directory found: \u001b[32m'io_dir-input/user_files'\u001b[0m.\n"
      ]
     },
     "metadata": {},
     "output_type": "display_data"
    }
   ],
   "source": [
    "#  Inputs validations: wheter or not exists input directory.\n",
    "UDFValidateDirectoryExists(input_dirpath_relative_to_home)\n",
    "\n",
    "#  Inputs validations: wheter or not exists configuration sub-directory (of input directory).\n",
    "#  NOTE: it REQUIRES parent directory (input directory) to exist.\n",
    "UDFValidateDirectoryExists(input_configuration_dirpath_relative_to_home)\n",
    "\n",
    "#  Inputs validations: wheter or not exists user parameters sub-directory (of input directory).\n",
    "#  NOTE: it REQUIRES parent directory (input directory) to exist.\n",
    "UDFValidateDirectoryExists(input_user_parameters_dirpath_relative_to_home)\n",
    "\n",
    "#  Inputs validations: wheter or not exists user files sub-directory (of input directory).\n",
    "#  NOTE: it REQUIRES parent directory (input directory) to exist.\n",
    "UDFValidateDirectoryExists(input_user_files_dirpath_relative_to_home)\n"
   ]
  },
  {
   "cell_type": "code",
   "execution_count": 24,
   "id": "f6f2e53a",
   "metadata": {},
   "outputs": [
    {
     "data": {
      "text/html": [
       "<pre style=\"white-space:pre;overflow-x:auto;line-height:normal;font-family:Menlo,'DejaVu Sans Mono',consolas,'Courier New',monospace\"><span style=\"font-weight: bold\">[</span>LOG<span style=\"font-weight: bold\">]</span> Directory found: <span style=\"color: #008000; text-decoration-color: #008000\">'io_dir-output'</span>.\n",
       "</pre>\n"
      ],
      "text/plain": [
       "\u001b[1m[\u001b[0mLOG\u001b[1m]\u001b[0m Directory found: \u001b[32m'io_dir-output'\u001b[0m.\n"
      ]
     },
     "metadata": {},
     "output_type": "display_data"
    }
   ],
   "source": [
    "#  Outputs validations: wheter or not exists output directory.\n",
    "UDFValidateDirectoryExists(output_dirpath_relative_to_home)\n"
   ]
  },
  {
   "cell_type": "code",
   "execution_count": 25,
   "id": "a6b84ab3",
   "metadata": {},
   "outputs": [
    {
     "data": {
      "text/html": [
       "<pre style=\"white-space:pre;overflow-x:auto;line-height:normal;font-family:Menlo,'DejaVu Sans Mono',consolas,'Courier New',monospace\"><span style=\"font-weight: bold\">[</span>LOG<span style=\"font-weight: bold\">]</span> Configuration files found <span style=\"font-weight: bold\">(</span>x2<span style=\"font-weight: bold\">)</span>: <span style=\"color: #008000; text-decoration-color: #008000\">'io_dir-input/config/py3-atria_hubspot_contacts_creation-input_config.yaml'</span> |\n",
       "<span style=\"color: #008000; text-decoration-color: #008000\">'io_dir-input/config/py3-atria_hubspot_contacts_creation-input_secrets.yaml'</span>.\n",
       "</pre>\n"
      ],
      "text/plain": [
       "\u001b[1m[\u001b[0mLOG\u001b[1m]\u001b[0m Configuration files found \u001b[1m(\u001b[0mx2\u001b[1m)\u001b[0m: \u001b[32m'io_dir-input/config/py3-atria_hubspot_contacts_creation-input_config.yaml'\u001b[0m |\n",
       "\u001b[32m'io_dir-input/config/py3-atria_hubspot_contacts_creation-input_secrets.yaml'\u001b[0m.\n"
      ]
     },
     "metadata": {},
     "output_type": "display_data"
    },
    {
     "data": {
      "text/html": [
       "<pre style=\"white-space:pre;overflow-x:auto;line-height:normal;font-family:Menlo,'DejaVu Sans Mono',consolas,'Courier New',monospace\"><span style=\"font-weight: bold\">[</span>LOG<span style=\"font-weight: bold\">]</span> User files found <span style=\"font-weight: bold\">(</span>x1<span style=\"font-weight: bold\">)</span>: <span style=\"color: #008000; text-decoration-color: #008000\">'io_dir-input/user_files/contacts-new_entries.csv'</span>.\n",
       "</pre>\n"
      ],
      "text/plain": [
       "\u001b[1m[\u001b[0mLOG\u001b[1m]\u001b[0m User files found \u001b[1m(\u001b[0mx1\u001b[1m)\u001b[0m: \u001b[32m'io_dir-input/user_files/contacts-new_entries.csv'\u001b[0m.\n"
      ]
     },
     "metadata": {},
     "output_type": "display_data"
    }
   ],
   "source": [
    "#  Inputs validations: searches for configuration of base variables.\n",
    "input_configuration_filepaths_relative_to_home          = UDFSearchPaths(input_configuration_filenames_regex, input_configuration_dirpath_relative_to_home)\n",
    "# #  Inputs validations: searches for user parameters file.\n",
    "# input_user_parameters_filepaths_relative_to_home        = UDFSearchPaths(input_user_parameters_filename, input_user_parameters_dirpath_relative_to_home)\n",
    "#  Inputs validations: searches for user files required as input, besides parameters, using REGEX.\n",
    "input_user_files_filepaths_relative_to_home             = UDFSearchPaths(input_user_files_filename_regex, input_user_files_dirpath_relative_to_home)\n",
    "\n",
    "rprint(f\"[LOG] Configuration files found (x{len(input_configuration_filepaths_relative_to_home)}): '{\"' | '\".join(input_configuration_filepaths_relative_to_home)}'.\")\n",
    "# rprint(f\"[LOG] User parameters files found (x{len(input_user_parameters_filepaths_relative_to_home)}): '{\"' | '\".join(input_user_parameters_filepaths_relative_to_home)}'.\")\n",
    "rprint(f\"[LOG] User files found (x{len(input_user_files_filepaths_relative_to_home)}): '{\"' | '\".join(input_user_files_filepaths_relative_to_home)}'.\")\n"
   ]
  },
  {
   "cell_type": "code",
   "execution_count": 26,
   "id": "6326bd2a",
   "metadata": {},
   "outputs": [],
   "source": [
    "#  [INITIALIZATION] INPUT: CONFIGURATION FILE(S) LOAD.\n"
   ]
  },
  {
   "cell_type": "code",
   "execution_count": 27,
   "id": "fc41cbeb",
   "metadata": {},
   "outputs": [
    {
     "data": {
      "text/html": [
       "<pre style=\"white-space:pre;overflow-x:auto;line-height:normal;font-family:Menlo,'DejaVu Sans Mono',consolas,'Courier New',monospace\"><span style=\"font-weight: bold\">[</span>LOG<span style=\"font-weight: bold\">]</span> Variables imported in total <span style=\"font-weight: bold\">(</span>x2<span style=\"font-weight: bold\">)</span>, from: \n",
       "<span style=\"color: #008000; text-decoration-color: #008000\">'io_dir-input/config/py3-atria_hubspot_contacts_creation-input_config.yaml'</span> | \n",
       "<span style=\"color: #008000; text-decoration-color: #008000\">'io_dir-input/config/py3-atria_hubspot_contacts_creation-input_secrets.yaml'</span>.\n",
       "</pre>\n"
      ],
      "text/plain": [
       "\u001b[1m[\u001b[0mLOG\u001b[1m]\u001b[0m Variables imported in total \u001b[1m(\u001b[0mx2\u001b[1m)\u001b[0m, from: \n",
       "\u001b[32m'io_dir-input/config/py3-atria_hubspot_contacts_creation-input_config.yaml'\u001b[0m | \n",
       "\u001b[32m'io_dir-input/config/py3-atria_hubspot_contacts_creation-input_secrets.yaml'\u001b[0m.\n"
      ]
     },
     "metadata": {},
     "output_type": "display_data"
    }
   ],
   "source": [
    "#  Load configuration YAML file.\n",
    "#  - Load '.yaml' file: 'https://www.geeksforgeeks.org/python/parse-a-yaml-file-in-python/'.\n",
    "yaml_variables_data = None\n",
    "yaml_variables_list = []\n",
    "\n",
    "for yaml_filepath in input_configuration_filepaths_relative_to_home:\n",
    "    with open(yaml_filepath, 'r') as file:\n",
    "        yaml_variables_data = yaml.load(file, Loader = yaml.SafeLoader)\n",
    "    if yaml_variables_data is not None:                              #  1st check YAML file is not empty.\n",
    "        if yaml_variables_data['parameters'] is not None:            #  2nd check if there is a 'parameters' section.\n",
    "            yaml_variables_list += yaml_variables_data['parameters']      #  Or also could use '<list>.extend(<other_list>)': 'https://sparkbyexamples.com/python/python-append-list-to-a-list/'.\n",
    "            # rprint(f\"[LOG] Variables imported (x{len(yaml_variables_data['parameters'])}), from '{yaml_filepath}'.\")\n",
    "\n",
    "rprint(f\"[LOG] Variables imported in total (x{len(yaml_variables_list)}), from: '{\"' | '\".join(input_configuration_filepaths_relative_to_home)}'.\")\n"
   ]
  },
  {
   "cell_type": "code",
   "execution_count": 28,
   "id": "55282185",
   "metadata": {},
   "outputs": [
    {
     "data": {
      "text/html": [
       "<pre style=\"white-space:pre;overflow-x:auto;line-height:normal;font-family:Menlo,'DejaVu Sans Mono',consolas,'Courier New',monospace\"><span style=\"font-weight: bold\">[</span>LOG<span style=\"font-weight: bold\">]</span> Variables loaded to <span style=\"color: #008000; text-decoration-color: #008000\">'globals()'</span> <span style=\"font-weight: bold\">(</span>x2<span style=\"font-weight: bold\">)</span>: <span style=\"color: #008000; text-decoration-color: #008000\">'_USER_GEOGRAPHIC_TIMEZONE'</span> | <span style=\"color: #008000; text-decoration-color: #008000\">'_USER_NEW_CONTACTS_FILENAME'</span>.\n",
       "</pre>\n"
      ],
      "text/plain": [
       "\u001b[1m[\u001b[0mLOG\u001b[1m]\u001b[0m Variables loaded to \u001b[32m'globals\u001b[0m\u001b[32m(\u001b[0m\u001b[32m)\u001b[0m\u001b[32m'\u001b[0m \u001b[1m(\u001b[0mx2\u001b[1m)\u001b[0m: \u001b[32m'_USER_GEOGRAPHIC_TIMEZONE'\u001b[0m | \u001b[32m'_USER_NEW_CONTACTS_FILENAME'\u001b[0m.\n"
      ]
     },
     "metadata": {},
     "output_type": "display_data"
    }
   ],
   "source": [
    "#  Get a dictionary of variables from YAML file, with proper data conversion.\n",
    "yaml_variables_dictionary = UDFCreateVariablesDictionaryFromFormattedList(yaml_variables_list)\n",
    "\n",
    "#  Load variables YAML file into globals().\n",
    "UDFLoadVariablesToGlobals(yaml_variables_dictionary)\n"
   ]
  },
  {
   "cell_type": "code",
   "execution_count": 29,
   "id": "b5da1f22",
   "metadata": {},
   "outputs": [],
   "source": [
    "#  Set execution timezone.\n",
    "_TIME_ZONE = zoneinfo.ZoneInfo(_USER_GEOGRAPHIC_TIMEZONE)\n"
   ]
  },
  {
   "cell_type": "code",
   "execution_count": 30,
   "id": "5f03e923",
   "metadata": {},
   "outputs": [],
   "source": [
    "#  [INITIALIZATION] INPUT: USER PARAMETERS FILE(S) LOAD.\n"
   ]
  },
  {
   "cell_type": "code",
   "execution_count": 31,
   "id": "c7d37db4",
   "metadata": {},
   "outputs": [],
   "source": [
    "#  [MAIN] Load new contacts file; e.g. 'contacts-new.csv'\n",
    "\n",
    "#  Get filenames of user files, using the filepaths relative to home, previously obtained.\n",
    "#  - Using list comprehension: 'https://stackoverflow.com/questions/25082410/apply-function-to-each-element-of-a-list/25082458#25082458', 'https://ellibrodepython.com/list-comprehension-python', 'https://www.geeksforgeeks.org/python/apply-function-to-each-element-of-a-list-python/'.\n",
    "input_user_files_filenames = [os.path.basename(input_user_files_filepath) for input_user_files_filepath in input_user_files_filepaths_relative_to_home]\n",
    "#  Throws an AssertionError, if no path found.\n",
    "assert _USER_NEW_CONTACTS_FILENAME in input_user_files_filenames, f\"[ERROR] Input file called '{_USER_NEW_CONTACTS_FILENAME}', should exist in order for current script to run properly.\"\n",
    "\n",
    "#  Gets filepaths of contacts new file, defined by developer in variable '_USER_NEW_CONTACTS_FILENAME'.\n",
    "new_contacts_csv_filepaths = list(filter(\n",
    "        lambda x : os.path.basename(x) == _USER_NEW_CONTACTS_FILENAME,\n",
    "        input_user_files_filepaths_relative_to_home\n",
    "    )\n",
    ")"
   ]
  },
  {
   "cell_type": "code",
   "execution_count": 32,
   "id": "d220625e",
   "metadata": {},
   "outputs": [
    {
     "data": {
      "text/html": [
       "<pre style=\"white-space:pre;overflow-x:auto;line-height:normal;font-family:Menlo,'DejaVu Sans Mono',consolas,'Courier New',monospace\"><span style=\"font-weight: bold\">[</span>LOG<span style=\"font-weight: bold\">]</span> New contacts imported <span style=\"font-weight: bold\">(</span>x3<span style=\"font-weight: bold\">)</span>, from: <span style=\"color: #008000; text-decoration-color: #008000\">'io_dir-input/user_files/contacts-new_entries.csv'</span>.\n",
       "</pre>\n"
      ],
      "text/plain": [
       "\u001b[1m[\u001b[0mLOG\u001b[1m]\u001b[0m New contacts imported \u001b[1m(\u001b[0mx3\u001b[1m)\u001b[0m, from: \u001b[32m'io_dir-input/user_files/contacts-new_entries.csv'\u001b[0m.\n"
      ]
     },
     "metadata": {},
     "output_type": "display_data"
    }
   ],
   "source": [
    "#  Load new contacts CSV file and gets a dictionary with 1. the dataframe.\n",
    "new_contacts_objects_dictionary   = UDFLoadCSVNewContacts(new_contacts_csv_filepaths[0])\n"
   ]
  },
  {
   "cell_type": "code",
   "execution_count": 33,
   "id": "97f894f0",
   "metadata": {},
   "outputs": [],
   "source": [
    "#  Create deepcopy of output from loading song lines CSV.\n",
    "new_contacts_dataframe          = copy.deepcopy(new_contacts_objects_dictionary['new_contacts_dataframe'])\n"
   ]
  },
  {
   "cell_type": "code",
   "execution_count": null,
   "id": "70b187b9",
   "metadata": {},
   "outputs": [],
   "source": []
  }
 ],
 "metadata": {
  "kernelspec": {
   "display_name": "Python 3",
   "language": "python",
   "name": "python3"
  },
  "language_info": {
   "codemirror_mode": {
    "name": "ipython",
    "version": 3
   },
   "file_extension": ".py",
   "mimetype": "text/x-python",
   "name": "python",
   "nbconvert_exporter": "python",
   "pygments_lexer": "ipython3",
   "version": "3.12.11"
  }
 },
 "nbformat": 4,
 "nbformat_minor": 5
}
